{
 "cells": [
  {
   "cell_type": "code",
   "execution_count": 1,
   "metadata": {
    "collapsed": true
   },
   "outputs": [],
   "source": [
    "## Ignore this part, it kills any previously running instance of program thus freeing GPU and memory.\n",
    "if 'session' in locals() and session is not None:\n",
    "    print('Close interactive session')\n",
    "    session.close()"
   ]
  },
  {
   "cell_type": "code",
   "execution_count": 2,
   "metadata": {},
   "outputs": [
    {
     "name": "stderr",
     "output_type": "stream",
     "text": [
      "Using TensorFlow backend.\n"
     ]
    }
   ],
   "source": [
    "# Importing packages\n",
    "from keras.models import Sequential\n",
    "from keras.layers import Dense\n",
    "from keras.wrappers.scikit_learn import KerasClassifier\n",
    "from evolutionary_search import EvolutionaryAlgorithmSearchCV\n",
    "from sklearn.model_selection import StratifiedKFold\n",
    "import numpy"
   ]
  },
  {
   "cell_type": "code",
   "execution_count": 3,
   "metadata": {
    "collapsed": true
   },
   "outputs": [],
   "source": [
    "# Importing data\n",
    "seed = 7\n",
    "numpy.random.seed(seed)\n",
    "dataset = numpy.loadtxt(\"pima-indians-diabetes.csv\", delimiter=\",\")\n",
    "X = dataset[:,0:8]\n",
    "Y = dataset[:,8]"
   ]
  },
  {
   "cell_type": "code",
   "execution_count": 8,
   "metadata": {},
   "outputs": [
    {
     "name": "stdout",
     "output_type": "stream",
     "text": [
      "Types [1, 1, 1, 1] and maxint [1, 1, 2, 0] detected\n",
      "--- Evolve in 12 possible combinations ---\n",
      "gen\tnevals\tavg     \tmin     \tmax     \n",
      "0  \t20    \t0.539981\t0.466691\t0.666361\n",
      "1  \t8     \t0.581356\t0.489633\t0.666361\n",
      "2  \t8     \t0.619136\t0.466691\t0.666361\n",
      "3  \t12    \t0.614288\t0.489633\t0.666361\n",
      "Best individual is: {'optimizer': 'adam', 'epochs': 20, 'batch_size': 50, 'init': 'glorot_uniform'}\n",
      "with fitness: 0.6663613478280116\n",
      "CPU times: user 2min 38s, sys: 6.5 s, total: 2min 44s\n",
      "Wall time: 2min 12s\n"
     ]
    }
   ],
   "source": [
    "# Defining ANN architecture and training GA optimised ANN\n",
    "# Currently following parameters are being optimized but it can further be extended to any parameter of ANN\n",
    "# Parameters: Number of epochs(Passes), Batch Size, Activation function, weight initialization\n",
    "def create_model(optimizer='rmsprop', init='glorot_uniform'):\n",
    "\t# create model\n",
    "\tmodel = Sequential()\n",
    "\tmodel.add(Dense(12, input_dim=8, kernel_initializer=init, activation='relu'))\n",
    "\tmodel.add(Dense(8, kernel_initializer=init, activation='relu'))\n",
    "\tmodel.add(Dense(1, kernel_initializer=init, activation='sigmoid'))\n",
    "\t# Compile model\n",
    "\tmodel.compile(loss='binary_crossentropy', optimizer=optimizer, metrics=['accuracy'])\n",
    "\treturn model\n",
    "model = KerasClassifier(build_fn=create_model, verbose=0)\n",
    "optimizers = ['rmsprop', 'adam']  # Activation function\n",
    "init1 = ['glorot_uniform'] # Method for neuron's weight initialization\n",
    "init2=[ 'normal']\n",
    "init3=['uniform']\n",
    "epochs = [20, 30]\n",
    "batches = [20, 50,70]\n",
    "param_grid = dict(optimizer=optimizers, epochs=epochs, batch_size=batches, init=init1)\n",
    "param_grid2= dict(optimizer=optimizers, epochs=epochs, batch_size=batches, init=init2)\n",
    "param_grid3=dict(optimizer=optimizers, epochs=epochs, batch_size=batches, init=init3)\n",
    "\n",
    "cv = EvolutionaryAlgorithmSearchCV(estimator=model,\n",
    "                                   params=param_grid,\n",
    "                                   scoring=\"roc_auc\",\n",
    "                                   cv=StratifiedKFold(n_splits=3),\n",
    "                                   verbose=1,\n",
    "                                   population_size=20,\n",
    "                                   gene_mutation_prob=0.1,\n",
    "                                   gene_crossover_prob=0.5,\n",
    "                                   tournament_size=3,\n",
    "                                   generations_number=3, # Due to bug in package total generations will be 4 i.e +1\n",
    "                                   n_jobs=-1)\n",
    "%time cv.fit(X, Y)"
   ]
  },
  {
   "cell_type": "code",
   "execution_count": 9,
   "metadata": {},
   "outputs": [
    {
     "name": "stdout",
     "output_type": "stream",
     "text": [
      "Types [1, 1, 1, 1] and maxint [1, 1, 2, 0] detected\n",
      "--- Evolve in 12 possible combinations ---\n",
      "gen\tnevals\tavg     \tmin     \tmax     \n",
      "0  \t20    \t0.661044\t0.625041\t0.697333\n",
      "1  \t15    \t0.678637\t0.643622\t0.697333\n",
      "2  \t10    \t0.689411\t0.631452\t0.697333\n",
      "3  \t18    \t0.693518\t0.651493\t0.697333\n",
      "Best individual is: {'optimizer': 'rmsprop', 'epochs': 30, 'batch_size': 20, 'init': 'normal'}\n",
      "with fitness: 0.6973330720324239\n",
      "CPU times: user 3min, sys: 6.8 s, total: 3min 6s\n",
      "Wall time: 2min 35s\n"
     ]
    }
   ],
   "source": [
    "cv2 = EvolutionaryAlgorithmSearchCV(estimator=model,\n",
    "                                   params=param_grid2,\n",
    "                                   scoring=\"roc_auc\",\n",
    "                                   cv=StratifiedKFold(n_splits=3),\n",
    "                                   verbose=1,\n",
    "                                   population_size=20,\n",
    "                                   gene_mutation_prob=0.1,\n",
    "                                   gene_crossover_prob=0.5,\n",
    "                                   tournament_size=3,\n",
    "                                   generations_number=3, # Due to bug in package total generations will be 4 i.e +1\n",
    "                                   n_jobs=-1)\n",
    "%time cv2.fit(X, Y)"
   ]
  },
  {
   "cell_type": "code",
   "execution_count": 10,
   "metadata": {},
   "outputs": [
    {
     "name": "stdout",
     "output_type": "stream",
     "text": [
      "Types [1, 1, 1, 1] and maxint [1, 1, 2, 0] detected\n",
      "--- Evolve in 12 possible combinations ---\n",
      "gen\tnevals\tavg     \tmin     \tmax     \n",
      "0  \t20    \t0.664123\t0.617643\t0.697619\n",
      "1  \t16    \t0.680818\t0.642243\t0.697619\n",
      "2  \t12    \t0.691565\t0.673204\t0.697619\n",
      "3  \t15    \t0.695793\t0.673204\t0.697619\n",
      "Best individual is: {'optimizer': 'adam', 'epochs': 30, 'batch_size': 20, 'init': 'uniform'}\n",
      "with fitness: 0.6976194688986984\n",
      "CPU times: user 3min 21s, sys: 6.54 s, total: 3min 27s\n",
      "Wall time: 2min 54s\n"
     ]
    }
   ],
   "source": [
    "cv3 = EvolutionaryAlgorithmSearchCV(estimator=model,\n",
    "                                   params=param_grid3,\n",
    "                                   scoring=\"roc_auc\",\n",
    "                                   cv=StratifiedKFold(n_splits=3),\n",
    "                                   verbose=1,\n",
    "                                   population_size=20,\n",
    "                                   gene_mutation_prob=0.1,\n",
    "                                   gene_crossover_prob=0.5,\n",
    "                                   tournament_size=3,\n",
    "                                   generations_number=3, # Due to bug in package total generations will be 4 i.e +1\n",
    "                                   n_jobs=-1)\n",
    "%time cv3.fit(X, Y)"
   ]
  },
  {
   "cell_type": "code",
   "execution_count": 12,
   "metadata": {},
   "outputs": [
    {
     "data": {
      "image/png": "[encoded data removed]",
      "text/plain": [
       "<matplotlib.figure.Figure at 0x7f1547055198>"
      ]
     },
     "metadata": {},
     "output_type": "display_data"
    }
   ],
   "source": [
    "# Plotting average fitness value within each generation against number of generations trained\n",
    "import matplotlib.pyplot as plt\n",
    "x = [1,2,3,4]\n",
    "y1 = [0.539981,0.581356,0.619136,0.614288]\n",
    "y2 = [0.661044,0.678637,0.689411,0.614288]\n",
    "y3 = [0.664123,0.680818,0.691565,0.695793]\n",
    "\n",
    "plt.plot(x,y1)\n",
    "plt.plot(x,y2)\n",
    "plt.plot(x,y3)\n",
    "\n",
    "plt.legend(['Glorot Normal', 'Normal', 'Uniform'], loc='lower right')\n",
    "plt.xlabel('Generation')\n",
    "plt.ylabel('Average AUC-ROC within generation')\n",
    "plt.title('Variation of AUC-ROC with Different weight initialization')\n",
    "plt.show()"
   ]
  },
  {
   "cell_type": "code",
   "execution_count": null,
   "metadata": {
    "collapsed": true
   },
   "outputs": [],
   "source": []
  }
 ],
 "metadata": {
  "kernelspec": {
   "display_name": "Python 3",
   "language": "python",
   "name": "python3"
  },
  "language_info": {
   "codemirror_mode": {
    "name": "ipython",
    "version": 3
   },
   "file_extension": ".py",
   "mimetype": "text/x-python",
   "name": "python",
   "nbconvert_exporter": "python",
   "pygments_lexer": "ipython3",
   "version": "3.6.1"
  }
 },
 "nbformat": 4,
 "nbformat_minor": 2
}
