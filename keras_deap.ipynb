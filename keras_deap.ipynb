{
 "cells": [
  {
   "cell_type": "code",
   "execution_count": 1,
   "metadata": {
    "collapsed": true
   },
   "outputs": [],
   "source": [
    "## Ignore this part, it kills any previously running instance of program thus freeing GPU and memory.\n",
    "if 'session' in locals() and session is not None:\n",
    "    print('Close interactive session')\n",
    "    session.close()"
   ]
  },
  {
   "cell_type": "code",
   "execution_count": 2,
   "metadata": {},
   "outputs": [
    {
     "name": "stderr",
     "output_type": "stream",
     "text": [
      "Using TensorFlow backend.\n"
     ]
    }
   ],
   "source": [
    "# Importing packages\n",
    "from keras.models import Sequential\n",
    "from keras.layers import Dense\n",
    "from keras.wrappers.scikit_learn import KerasClassifier\n",
    "from evolutionary_search import EvolutionaryAlgorithmSearchCV\n",
    "from sklearn.model_selection import StratifiedKFold\n",
    "import numpy"
   ]
  },
  {
   "cell_type": "code",
   "execution_count": 3,
   "metadata": {
    "collapsed": true
   },
   "outputs": [],
   "source": [
    "# Importing data\n",
    "seed = 7\n",
    "numpy.random.seed(seed)\n",
    "dataset = numpy.loadtxt(\"pima-indians-diabetes.csv\", delimiter=\",\")\n",
    "X = dataset[:,0:8]\n",
    "Y = dataset[:,8]"
   ]
  },
  {
   "cell_type": "code",
   "execution_count": 4,
   "metadata": {},
   "outputs": [
    {
     "name": "stdout",
     "output_type": "stream",
     "text": [
      "Types [1, 1, 1, 1] and maxint [1, 1, 2, 2] detected\n",
      "--- Evolve in 36 possible combinations ---\n",
      "gen\tnevals\tavg     \tmin     \tmax     \n",
      "0  \t50    \t0.613919\t0.477796\t0.712255\n",
      "1  \t32    \t0.654931\t0.565958\t0.712255\n",
      "2  \t29    \t0.681432\t0.556459\t0.712255\n",
      "3  \t26    \t0.689619\t0.64049 \t0.712255\n",
      "4  \t32    \t0.696849\t0.640255\t0.712255\n",
      "5  \t22    \t0.708038\t0.678702\t0.712255\n",
      "Best individual is: {'optimizer': 'adam', 'epochs': 30, 'batch_size': 20, 'init': 'normal'}\n",
      "with fitness: 0.7122545930022429\n",
      "CPU times: user 7min 51s, sys: 19.9 s, total: 8min 11s\n",
      "Wall time: 6min 43s\n"
     ]
    }
   ],
   "source": [
    "# Defining ANN architecture and training GA optimised ANN\n",
    "# Currently following parameters are being optimized but it can further be extended to any parameter of ANN\n",
    "# Parameters: Number of epochs(Passes), Batch Size, Activation function, weight initialization\n",
    "def create_model(optimizer='rmsprop', init='glorot_uniform'):\n",
    "\t# create model\n",
    "\tmodel = Sequential()\n",
    "\tmodel.add(Dense(12, input_dim=8, kernel_initializer=init, activation='relu'))\n",
    "\tmodel.add(Dense(8, kernel_initializer=init, activation='relu'))\n",
    "\tmodel.add(Dense(1, kernel_initializer=init, activation='sigmoid'))\n",
    "\t# Compile model\n",
    "\tmodel.compile(loss='binary_crossentropy', optimizer=optimizer, metrics=['accuracy'])\n",
    "\treturn model\n",
    "model = KerasClassifier(build_fn=create_model, verbose=0)\n",
    "optimizers = ['rmsprop', 'adam']  # Activation function\n",
    "init = ['glorot_uniform', 'normal', 'uniform'] # Method for neuron's weight initialization\n",
    "epochs = [20, 30]\n",
    "batches = [20, 50,70]\n",
    "param_grid = dict(optimizer=optimizers, epochs=epochs, batch_size=batches, init=init)\n",
    "cv = EvolutionaryAlgorithmSearchCV(estimator=model,\n",
    "                                   params=param_grid,\n",
    "                                   scoring=\"roc_auc\",\n",
    "                                   cv=StratifiedKFold(n_splits=3),\n",
    "                                   verbose=1,\n",
    "                                   population_size=50,\n",
    "                                   gene_mutation_prob=0.1,\n",
    "                                   gene_crossover_prob=0.5,\n",
    "                                   tournament_size=3,\n",
    "                                   generations_number=5, # Due to bug in package total generations will be 6 i.e +1\n",
    "                                   n_jobs=-1)\n",
    "%time cv.fit(X, Y)"
   ]
  },
  {
   "cell_type": "code",
   "execution_count": 10,
   "metadata": {},
   "outputs": [
    {
     "data": {
      "image/png": "[encoded data removed]",
      "text/plain": [
       "<matplotlib.figure.Figure at 0x7f08a5889588>"
      ]
     },
     "metadata": {},
     "output_type": "display_data"
    }
   ],
   "source": [
    "# Plotting average fitness value within each generation against number of generations trained\n",
    "import matplotlib.pyplot as plt\n",
    "x = [1,2,3,4,5,6]\n",
    "y = [0.613919,0.654931,0.681432,0.689619,0.696849,0.708038]\n",
    "plt.plot(x,y)\n",
    "plt.xlabel('Generation')\n",
    "plt.ylabel('Average AUC-ROC within generation')\n",
    "plt.title('Variation of AUC-ROC with generation')\n",
    "plt.show()"
   ]
  }
 ],
 "metadata": {
  "kernelspec": {
   "display_name": "Python 3",
   "language": "python",
   "name": "python3"
  },
  "language_info": {
   "codemirror_mode": {
    "name": "ipython",
    "version": 3
   },
   "file_extension": ".py",
   "mimetype": "text/x-python",
   "name": "python",
   "nbconvert_exporter": "python",
   "pygments_lexer": "ipython3",
   "version": "3.6.1"
  }
 },
 "nbformat": 4,
 "nbformat_minor": 2
}
